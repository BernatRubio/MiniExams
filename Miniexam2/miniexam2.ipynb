{
 "cells": [
  {
   "cell_type": "markdown",
   "metadata": {},
   "source": [
    "# **Exercici CUB**"
   ]
  },
  {
   "cell_type": "code",
   "execution_count": 52,
   "metadata": {},
   "outputs": [
    {
     "name": "stdout",
     "output_type": "stream",
     "text": [
      "v(i,j,k) of p is: [8, 16, 24]\n",
      "v(i,j,k) of q is: [16, 24, 8]\n"
     ]
    }
   ],
   "source": [
    "#-------------------------------------------\n",
    "p = [13,19,25]\n",
    "q= [17,27,15]\n",
    "\n",
    "voxel_side = 8\n",
    "\n",
    "mu_vijk = 0.01\n",
    "mu_vi1jk = 0.02\n",
    "mu_vij1k = 0.015\n",
    "mu_vijk1 = 0.005\n",
    "mu_vi1j1k = 0.03\n",
    "mu_vi1jk1 = 0.025\n",
    "mu_vij1k1 = 0.04\n",
    "mu_vi1j1k1 = 0.035\n",
    "#-------------------------------------------\n",
    "\n",
    "vijk_p = [p[0]-(p[0]%voxel_side),p[1]-(p[1]%voxel_side),p[2]-(p[2]%voxel_side)]\n",
    "print(\"v(i,j,k) of p is:\",vijk_p)\n",
    "\n",
    "vijk_q = [q[0]-(q[0]%voxel_side),q[1]-(q[1]%voxel_side),q[2]-(q[2]%voxel_side)]\n",
    "print(\"v(i,j,k) of q is:\",vijk_q)"
   ]
  },
  {
   "cell_type": "code",
   "execution_count": 53,
   "metadata": {},
   "outputs": [
    {
     "name": "stdout",
     "output_type": "stream",
     "text": [
      "v(i,j,k) of p is: [8, 16, 24]\n",
      "\n",
      "v(i+1,j,k) of p is: [16, 16, 24]\n",
      "\n",
      "v(i,j+1,k) of p is: [8, 24, 24]\n",
      "\n",
      "v(i,j,k+1) of p is: [8, 16, 32]\n",
      "\n",
      "v(i+1,j+1,k) of p is: [16, 24, 24]\n",
      "\n",
      "v(i+1,j,k+1) of p is: [16, 16, 32]\n",
      "\n",
      "v(i,j+1,k+1) of p is: [8, 24, 32]\n",
      "\n",
      "v(i+1,j+1,k+1) of p is: [16, 24, 32]\n"
     ]
    }
   ],
   "source": [
    "#CUBE FOR P\n",
    "\n",
    "vi1jk_p = [vijk_p[0] + voxel_side,vijk_p[1],vijk_p[2]]\n",
    "vij1k_p = [vijk_p[0],vijk_p[1] + voxel_side,vijk_p[2]]\n",
    "vijk1_p = [vijk_p[0],vijk_p[1],vijk_p[2] + voxel_side]\n",
    "vi1j1k_p = [vijk_p[0] + voxel_side,vijk_p[1] + voxel_side,vijk_p[2]]\n",
    "vi1jk1_p = [vijk_p[0]+ voxel_side,vijk_p[1],vijk_p[2]+ voxel_side]\n",
    "vij1k1_p = [vijk_p[0],vijk_p[1]+ voxel_side,vijk_p[2] + voxel_side]\n",
    "vi1j1k1_p = [vijk_p[0]+ voxel_side,vijk_p[1]+ voxel_side,vijk_p[2] + voxel_side]\n",
    "\n",
    "print(\"v(i,j,k) of p is:\",vijk_p)\n",
    "print(\"\")\n",
    "print(\"v(i+1,j,k) of p is:\",vi1jk_p)\n",
    "print(\"\")\n",
    "print(\"v(i,j+1,k) of p is:\",vij1k_p)\n",
    "print(\"\")\n",
    "print(\"v(i,j,k+1) of p is:\",vijk1_p)\n",
    "print(\"\")\n",
    "print(\"v(i+1,j+1,k) of p is:\",vi1j1k_p)\n",
    "print(\"\")\n",
    "print(\"v(i+1,j,k+1) of p is:\",vi1jk1_p)\n",
    "print(\"\")\n",
    "print(\"v(i,j+1,k+1) of p is:\",vij1k1_p)\n",
    "print(\"\")\n",
    "print(\"v(i+1,j+1,k+1) of p is:\",vi1j1k1_p)\n"
   ]
  },
  {
   "cell_type": "code",
   "execution_count": 54,
   "metadata": {},
   "outputs": [
    {
     "name": "stdout",
     "output_type": "stream",
     "text": [
      "v(i,j,k) of q is: [16, 24, 8]\n",
      "\n",
      "v(i+1,j,k) of q is: [24, 24, 8]\n",
      "\n",
      "v(i,j+1,k) of q is: [16, 32, 8]\n",
      "\n",
      "v(i,j,k+1) of q is: [16, 24, 16]\n",
      "\n",
      "v(i+1,j+1,k) of q is: [24, 32, 8]\n",
      "\n",
      "v(i+1,j,k+1) of q is: [24, 24, 16]\n",
      "\n",
      "v(i,j+1,k+1) of q is: [16, 32, 16]\n",
      "\n",
      "v(i+1,j+1,k+1) of q is: [24, 32, 16]\n"
     ]
    }
   ],
   "source": [
    "#CUBE FOR Q\n",
    "\n",
    "vi1jk_q = [vijk_q[0] + voxel_side,vijk_q[1],vijk_q[2]]\n",
    "vij1k_q = [vijk_q[0],vijk_q[1] + voxel_side,vijk_q[2]]\n",
    "vijk1_q = [vijk_q[0],vijk_q[1],vijk_q[2] + voxel_side]\n",
    "vi1j1k_q = [vijk_q[0] + voxel_side,vijk_q[1] + voxel_side,vijk_q[2]]\n",
    "vi1jk1_q = [vijk_q[0]+ voxel_side,vijk_q[1],vijk_q[2]+ voxel_side]\n",
    "vij1k1_q = [vijk_q[0],vijk_q[1]+ voxel_side,vijk_q[2] + voxel_side]\n",
    "vi1j1k1_q = [vijk_q[0]+ voxel_side,vijk_q[1]+ voxel_side,vijk_q[2] + voxel_side]\n",
    "\n",
    "print(\"v(i,j,k) of q is:\",vijk_q)\n",
    "print(\"\")\n",
    "print(\"v(i+1,j,k) of q is:\",vi1jk_q)\n",
    "print(\"\")\n",
    "print(\"v(i,j+1,k) of q is:\",vij1k_q)\n",
    "print(\"\")\n",
    "print(\"v(i,j,k+1) of q is:\",vijk1_q)\n",
    "print(\"\")\n",
    "print(\"v(i+1,j+1,k) of q is:\",vi1j1k_q)\n",
    "print(\"\")\n",
    "print(\"v(i+1,j,k+1) of q is:\",vi1jk1_q)\n",
    "print(\"\")\n",
    "print(\"v(i,j+1,k+1) of q is:\",vij1k1_q)\n",
    "print(\"\")\n",
    "print(\"v(i+1,j+1,k+1) of q is:\",vi1j1k1_q)\n"
   ]
  },
  {
   "cell_type": "code",
   "execution_count": 55,
   "metadata": {},
   "outputs": [
    {
     "name": "stdout",
     "output_type": "stream",
     "text": [
      "FOR POINT P:\n",
      "x: 5 / 8\n",
      "y: 3 / 8\n",
      "z: 1 / 8\n",
      "\n",
      "FOR POINT Q:\n",
      "x: 1 / 8\n",
      "y: 3 / 8\n",
      "z: 7 / 8\n"
     ]
    }
   ],
   "source": [
    "x_p = p[0]%voxel_side / voxel_side\n",
    "y_p = p[1]%voxel_side / voxel_side\n",
    "z_p = p[2]%voxel_side / voxel_side\n",
    "print(\"FOR POINT P:\")\n",
    "print(\"x:\",p[0]%voxel_side,\"/\",voxel_side)\n",
    "print(\"y:\",p[1]%voxel_side,\"/\",voxel_side)\n",
    "print(\"z:\",p[2]%voxel_side,\"/\",voxel_side)\n",
    "print(\"\")\n",
    "\n",
    "x_q = q[0]%voxel_side / voxel_side\n",
    "y_q = q[1]%voxel_side / voxel_side\n",
    "z_q = q[2]%voxel_side / voxel_side\n",
    "print(\"FOR POINT Q:\")\n",
    "print(\"x:\",q[0]%voxel_side,\"/\",voxel_side)\n",
    "print(\"y:\",q[1]%voxel_side,\"/\",voxel_side)\n",
    "print(\"z:\",q[2]%voxel_side,\"/\",voxel_side)"
   ]
  },
  {
   "cell_type": "code",
   "execution_count": 56,
   "metadata": {},
   "outputs": [
    {
     "name": "stdout",
     "output_type": "stream",
     "text": [
      "mu_a for point p: 0.01998046875\n",
      "\n",
      "mu_a for point q: 0.01869140625\n"
     ]
    }
   ],
   "source": [
    "mu_a_p = (1-x_p)*(1-y_p)*(1-z_p)*mu_vijk + (1-x_p)*(1-y_p)*(z_p)*(mu_vijk1) + (x_p)*(1-y_p)*(1-z_p)*mu_vi1jk + (x_p)*(1-y_p)*(z_p)*mu_vi1jk1 + (1-x_p)*(y_p)*(1-z_p)*mu_vij1k + (1-x_p)*(y_p)*(z_p)*mu_vij1k1 + (x_p)*(y_p)*(1-z_p)*mu_vi1j1k + (x_p)*(y_p)*(z_p)*mu_vi1j1k1\n",
    "print(\"mu_a for point p:\",mu_a_p)\n",
    "\n",
    "print(\"\")\n",
    "\n",
    "mu_a_q = (1-x_q)*(1-y_q)*(1-z_q)*mu_vijk + (1-x_q)*(1-y_q)*(z_q)*(mu_vijk1) + (x_q)*(1-y_q)*(1-z_q)*mu_vi1jk + (x_q)*(1-y_q)*(z_q)*mu_vi1jk1 + (1-x_q)*(y_q)*(1-z_q)*mu_vij1k + (1-x_q)*(y_q)*(z_q)*mu_vij1k1 + (x_q)*(y_q)*(1-z_q)*mu_vi1j1k + (x_q)*(y_q)*(z_q)*mu_vi1j1k1\n",
    "print(\"mu_a for point q:\",mu_a_q)"
   ]
  }
 ],
 "metadata": {
  "kernelspec": {
   "display_name": "Python 3",
   "language": "python",
   "name": "python3"
  },
  "language_info": {
   "codemirror_mode": {
    "name": "ipython",
    "version": 3
   },
   "file_extension": ".py",
   "mimetype": "text/x-python",
   "name": "python",
   "nbconvert_exporter": "python",
   "pygments_lexer": "ipython3",
   "version": "3.10.8"
  }
 },
 "nbformat": 4,
 "nbformat_minor": 2
}
